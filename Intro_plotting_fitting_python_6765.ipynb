{
  "nbformat": 4,
  "nbformat_minor": 0,
  "metadata": {
    "colab": {
      "name": "Intro-plotting-fitting-python-6765",
      "provenance": [],
      "collapsed_sections": [],
      "toc_visible": true,
      "authorship_tag": "ABX9TyO1NPUt+c6fQYR5EKu2k+eJ",
      "include_colab_link": true
    },
    "kernelspec": {
      "name": "python3",
      "display_name": "Python 3"
    }
  },
  "cells": [
    {
      "cell_type": "markdown",
      "metadata": {
        "id": "view-in-github",
        "colab_type": "text"
      },
      "source": [
        "<a href=\"https://colab.research.google.com/github/mpfoster/Biochem6765/blob/master/Intro_plotting_fitting_python_6765.ipynb\" target=\"_parent\"><img src=\"https://colab.research.google.com/assets/colab-badge.svg\" alt=\"Open In Colab\"/></a>"
      ]
    },
    {
      "cell_type": "markdown",
      "metadata": {
        "id": "7KCUG_b4FRTu",
        "colab_type": "text"
      },
      "source": [
        "# Introduction to using Python for Biochem 6765 - SP20; Foster\n",
        "\n",
        "## Simple plotting and fitting with Python, using matplotlib and pandas\n",
        "We will start with a cooperative isotherm of oxygen binding to hemoglobin. The data as follows, in which the first column is oxygen partial pressure (in mmHg), and the second is fractional saturation:\n",
        "```\n",
        "0.499\t0.000\n",
        "1.341\t0.015\n",
        "2.106\t0.030\n",
        "5.345\t0.146\n",
        "7.934\t0.316\n",
        "11.132\t0.505\n",
        "14.761\t0.644\n",
        "18.499\t0.760\n",
        "25.233\t0.919\n",
        "64.028\t0.995\n",
        "```\n",
        "We plot the data using `matplotlib` https://matplotlib.org/ (a library with functionality similar to that of MATLAB), we define _x_ and _y_ data. This can be done manually, as ..."
      ]
    },
    {
      "cell_type": "code",
      "metadata": {
        "id": "11hLGNZrGM7C",
        "colab_type": "code",
        "outputId": "bd6f0c0f-9d31-421e-fcf7-d29a7ee00f4b",
        "colab": {
          "base_uri": "https://localhost:8080/",
          "height": 296
        }
      },
      "source": [
        "# import matplotlib library for MATLAB-like plotting\n",
        "import matplotlib.pyplot as plt  # this library has the plotting tools\n",
        "# enter the data manually\n",
        "x = [0.499,  1.341,  2.106,  5.345,  7.934,  11.132,  14.761,  18.499,  25.233,\n",
        "     64.028]\n",
        "y = [0.0, 0.015, 0.03, 0.146, 0.316, 0.505, 0.644, 0.76, 0.919, 0.995]\n",
        "# then plot the data: \n",
        "plt.plot(x,y, 'bo--') # 'bo--' means *b*lue 'o's and dashes\n",
        "plt.xlabel('Oxygen Pressure (mm)')\n",
        "plt.ylabel('Saturation')\n",
        "#import numpy as np"
      ],
      "execution_count": 0,
      "outputs": [
        {
          "output_type": "execute_result",
          "data": {
            "text/plain": [
              "Text(0, 0.5, 'Saturation')"
            ]
          },
          "metadata": {
            "tags": []
          },
          "execution_count": 70
        },
        {
          "output_type": "display_data",
          "data": {
            "image/png": "[encoded data removed]",
            "text/plain": [
              "<Figure size 432x288 with 1 Axes>"
            ]
          },
          "metadata": {
            "tags": []
          }
        }
      ]
    },
    {
      "cell_type": "markdown",
      "metadata": {
        "id": "fSe_Gli9SUjT",
        "colab_type": "text"
      },
      "source": [
        "Usually, our data is in some file. We can most easily read in the data using the `pandas` package, https://pandas.pydata.org/. Pandas simplifies loading tabular data into a \"data frame\"; basically a table with rows and columns. For this example, the data are available on the web as a space-separated text file, at this URL: https://www.asc.ohio-state.edu/foster.281/gnuplot/gnuplot_tutorial1_files/hb+o2.txt . The first line of the file is a comment, so we will need to tell pandas to ignore lines that start with `comment='#'`, that the separator between fields is blank space `sep='\\s+'`, and that the file does not have a reader row, `header=None`."
      ]
    },
    {
      "cell_type": "code",
      "metadata": {
        "id": "NJZEkhpVyggl",
        "colab_type": "code",
        "outputId": "6574154d-0f51-455a-8e25-193e1ac359a9",
        "colab": {
          "base_uri": "https://localhost:8080/",
          "height": 363
        }
      },
      "source": [
        "# use pandas to load the data from a url\n",
        "import pandas as pd\n",
        "df = pd.read_table(\"https://www.asc.ohio-state.edu/foster.281/gnuplot/gnuplot_tutorial1_files/hb+o2.txt\",\n",
        "                   sep='\\s+', header=None, comment='#')\n",
        "df.columns = ['PO2','Ys']  # rename columns; 0 is oxygen pressure; 1 is saturation\n",
        "df  # print out the data frame"
      ],
      "execution_count": 0,
      "outputs": [
        {
          "output_type": "execute_result",
          "data": {
            "text/html": [
              "<div>\n",
              "<style scoped>\n",
              "    .dataframe tbody tr th:only-of-type {\n",
              "        vertical-align: middle;\n",
              "    }\n",
              "\n",
              "    .dataframe tbody tr th {\n",
              "        vertical-align: top;\n",
              "    }\n",
              "\n",
              "    .dataframe thead th {\n",
              "        text-align: right;\n",
              "    }\n",
              "</style>\n",
              "<table border=\"1\" class=\"dataframe\">\n",
              "  <thead>\n",
              "    <tr style=\"text-align: right;\">\n",
              "      <th></th>\n",
              "      <th>PO2</th>\n",
              "      <th>Ys</th>\n",
              "    </tr>\n",
              "  </thead>\n",
              "  <tbody>\n",
              "    <tr>\n",
              "      <th>0</th>\n",
              "      <td>0.499</td>\n",
              "      <td>0.000</td>\n",
              "    </tr>\n",
              "    <tr>\n",
              "      <th>1</th>\n",
              "      <td>1.341</td>\n",
              "      <td>0.015</td>\n",
              "    </tr>\n",
              "    <tr>\n",
              "      <th>2</th>\n",
              "      <td>2.106</td>\n",
              "      <td>0.030</td>\n",
              "    </tr>\n",
              "    <tr>\n",
              "      <th>3</th>\n",
              "      <td>5.345</td>\n",
              "      <td>0.146</td>\n",
              "    </tr>\n",
              "    <tr>\n",
              "      <th>4</th>\n",
              "      <td>7.934</td>\n",
              "      <td>0.316</td>\n",
              "    </tr>\n",
              "    <tr>\n",
              "      <th>5</th>\n",
              "      <td>11.132</td>\n",
              "      <td>0.505</td>\n",
              "    </tr>\n",
              "    <tr>\n",
              "      <th>6</th>\n",
              "      <td>14.761</td>\n",
              "      <td>0.644</td>\n",
              "    </tr>\n",
              "    <tr>\n",
              "      <th>7</th>\n",
              "      <td>18.499</td>\n",
              "      <td>0.760</td>\n",
              "    </tr>\n",
              "    <tr>\n",
              "      <th>8</th>\n",
              "      <td>25.233</td>\n",
              "      <td>0.919</td>\n",
              "    </tr>\n",
              "    <tr>\n",
              "      <th>9</th>\n",
              "      <td>64.028</td>\n",
              "      <td>0.995</td>\n",
              "    </tr>\n",
              "  </tbody>\n",
              "</table>\n",
              "</div>"
            ],
            "text/plain": [
              "      PO2     Ys\n",
              "0   0.499  0.000\n",
              "1   1.341  0.015\n",
              "2   2.106  0.030\n",
              "3   5.345  0.146\n",
              "4   7.934  0.316\n",
              "5  11.132  0.505\n",
              "6  14.761  0.644\n",
              "7  18.499  0.760\n",
              "8  25.233  0.919\n",
              "9  64.028  0.995"
            ]
          },
          "metadata": {
            "tags": []
          },
          "execution_count": 73
        }
      ]
    },
    {
      "cell_type": "markdown",
      "metadata": {
        "id": "Lrm7uBrReLwj",
        "colab_type": "text"
      },
      "source": [
        "and... easily plot the data using funtions associated with a pandas data frame:"
      ]
    },
    {
      "cell_type": "code",
      "metadata": {
        "id": "aS8jEKNa1U_n",
        "colab_type": "code",
        "outputId": "65bde099-5e64-4f4e-c0ae-f281d0f8693a",
        "colab": {
          "base_uri": "https://localhost:8080/",
          "height": 242
        }
      },
      "source": [
        "df.plot('PO2', 'Ys', kind='scatter', figsize=(3,3)) # plot the data using a scatter plot"
      ],
      "execution_count": 0,
      "outputs": [
        {
          "output_type": "execute_result",
          "data": {
            "text/plain": [
              "<matplotlib.axes._subplots.AxesSubplot at 0x7f032746dba8>"
            ]
          },
          "metadata": {
            "tags": []
          },
          "execution_count": 74
        },
        {
          "output_type": "display_data",
          "data": {
            "image/png": "[encoded data removed]",
            "text/plain": [
              "<Figure size 216x216 with 1 Axes>"
            ]
          },
          "metadata": {
            "tags": []
          }
        }
      ]
    },
    {
      "cell_type": "markdown",
      "metadata": {
        "id": "gVvHVsvXelzj",
        "colab_type": "text"
      },
      "source": [
        "NB: we can convert a column in a data frame to a list:"
      ]
    },
    {
      "cell_type": "code",
      "metadata": {
        "id": "S3WosP1GUuuU",
        "colab_type": "code",
        "outputId": "2590da7b-308e-4358-9ed2-5895cda25be1",
        "colab": {
          "base_uri": "https://localhost:8080/",
          "height": 34
        }
      },
      "source": [
        "df['Ys'].tolist() # print a column as a list"
      ],
      "execution_count": 0,
      "outputs": [
        {
          "output_type": "execute_result",
          "data": {
            "text/plain": [
              "[0.0, 0.015, 0.03, 0.146, 0.316, 0.505, 0.644, 0.76, 0.919, 0.995]"
            ]
          },
          "metadata": {
            "tags": []
          },
          "execution_count": 78
        }
      ]
    },
    {
      "cell_type": "markdown",
      "metadata": {
        "id": "T_HHtk1rVdGF",
        "colab_type": "text"
      },
      "source": [
        "## Fitting to a model\n",
        "OK, we have loaded and plotted the binding data. It's common to interpret cooperative binding of multiple ligands to a macromolecule using the Hill equation: \n",
        "\n",
        "<img src=\"https://latex.codecogs.com/svg.latex?\\Large&space;Y=\\frac{[L]^n}{[L]^n+K_D^2}\" title=\"\\Large Y=\\frac{[L]^n}{[L]^n+K_D^n}\" />\n",
        "\n",
        "where _n_ is the Hill coefficient. We will use the `lmfit` package https://lmfit.github.io/lmfit-py/ to generate the model and perfom fitting. `lmfit` is not a standard package in most python installations (it is built on other packages, especially `numpy` and `scipy`), and therefore needs to be installed. In a Jupyter Notebook, this can be accomplished by:\n",
        "```\n",
        "!pip install lmfit\n",
        "```\n"
      ]
    },
    {
      "cell_type": "code",
      "metadata": {
        "colab_type": "code",
        "id": "E0NReY51yngk",
        "outputId": "d9ce71a9-5c33-4019-c1d8-b98310573752",
        "colab": {
          "base_uri": "https://localhost:8080/",
          "height": 454
        }
      },
      "source": [
        "# install lmfit\n",
        "!pip install lmfit\n",
        "from lmfit import Model, Parameter, report_fit  # import the desired components\n",
        "import numpy as np  "
      ],
      "execution_count": 0,
      "outputs": [
        {
          "output_type": "display_data",
          "data": {
            "text/html": [
              "<script src='https://www.gstatic.com/external_hosted/mathjax/latest/MathJax.js?config=default'></script>"
            ],
            "text/plain": [
              "<IPython.core.display.HTML object>"
            ]
          },
          "metadata": {
            "tags": []
          }
        },
        {
          "output_type": "stream",
          "text": [
            "Collecting lmfit\n",
            "\u001b[?25l  Downloading https://files.pythonhosted.org/packages/82/99/e7cc83cb946955232477554248e86cb43691d8dd30be1d6ac70d64c202d3/lmfit-1.0.0.tar.gz (258kB)\n",
            "\u001b[K     |████████████████████████████████| 266kB 4.8MB/s \n",
            "\u001b[?25hCollecting asteval>=0.9.16\n",
            "\u001b[?25l  Downloading https://files.pythonhosted.org/packages/e4/3b/8aaee90977588fa3e88d7a495af306d6f4a1c1c01c8f0fe0de1fc43d0908/asteval-0.9.18.tar.gz (52kB)\n",
            "\u001b[K     |████████████████████████████████| 61kB 9.1MB/s \n",
            "\u001b[?25hRequirement already satisfied: numpy>=1.16 in /usr/local/lib/python3.6/dist-packages (from lmfit) (1.17.5)\n",
            "Requirement already satisfied: scipy>=1.2 in /usr/local/lib/python3.6/dist-packages (from lmfit) (1.4.1)\n",
            "Collecting uncertainties>=3.0.1\n",
            "\u001b[?25l  Downloading https://files.pythonhosted.org/packages/2a/c2/babbe5b16141859dd799ed31c03987100a7b6d0ca7c0ed4429c96ce60fdf/uncertainties-3.1.2.tar.gz (232kB)\n",
            "\u001b[K     |████████████████████████████████| 235kB 18.4MB/s \n",
            "\u001b[?25hBuilding wheels for collected packages: lmfit, asteval, uncertainties\n",
            "  Building wheel for lmfit (setup.py) ... \u001b[?25l\u001b[?25hdone\n",
            "  Created wheel for lmfit: filename=lmfit-1.0.0-cp36-none-any.whl size=87915 sha256=d74f87d53376d187799643a33398b49e5244ec64a39d57a35980aea8c0bb716e\n",
            "  Stored in directory: /root/.cache/pip/wheels/1f/93/e9/8d3f759e466f5bbfed3ba1d7dc5b3d4389c469a1ec9a2acaee\n",
            "  Building wheel for asteval (setup.py) ... \u001b[?25l\u001b[?25hdone\n",
            "  Created wheel for asteval: filename=asteval-0.9.18-cp36-none-any.whl size=17382 sha256=fdd2d8bf6141d0fc55d1fa7acef57baa07801de75b5fba423410c3e18a899d74\n",
            "  Stored in directory: /root/.cache/pip/wheels/1c/53/1b/28d929700c9633b1786a4982e6db564ec8326a8930234dcc19\n",
            "  Building wheel for uncertainties (setup.py) ... \u001b[?25l\u001b[?25hdone\n",
            "  Created wheel for uncertainties: filename=uncertainties-3.1.2-cp36-none-any.whl size=96458 sha256=861c04d95094e1025a7fcea9a404f2c06655b78845a4f3dc339e349acffea04c\n",
            "  Stored in directory: /root/.cache/pip/wheels/d9/d3/0e/5b0b743a8abd50373705427438456da5dc2621891138d7a618\n",
            "Successfully built lmfit asteval uncertainties\n",
            "Installing collected packages: asteval, uncertainties, lmfit\n",
            "Successfully installed asteval-0.9.18 lmfit-1.0.0 uncertainties-3.1.2\n"
          ],
          "name": "stdout"
        }
      ]
    },
    {
      "cell_type": "code",
      "metadata": {
        "id": "tIRPk9I1aoT3",
        "colab_type": "code",
        "outputId": "9e172280-49ce-4fbd-f830-f924d9afb4da",
        "colab": {
          "base_uri": "https://localhost:8080/",
          "height": 17
        }
      },
      "source": [
        "def Hill(x, n, Kd): # the Hill equation\n",
        "    return x**n/(x**n + Kd**n) \n",
        "\n",
        "x = df['PO2']\n",
        "data = df['Ys']\n",
        "#simdata = Hill(x,4,10)\n",
        "#simdata\n",
        "#plt.plot(x,simdata)"
      ],
      "execution_count": 0,
      "outputs": [
        {
          "output_type": "display_data",
          "data": {
            "text/html": [
              "<script src='https://www.gstatic.com/external_hosted/mathjax/latest/MathJax.js?config=default'></script>"
            ],
            "text/plain": [
              "<IPython.core.display.HTML object>"
            ]
          },
          "metadata": {
            "tags": []
          }
        }
      ]
    },
    {
      "cell_type": "code",
      "metadata": {
        "id": "PX1STDWLc_iO",
        "colab_type": "code",
        "outputId": "2c93701a-ae6c-4c2f-d0ca-55f045c035dc",
        "colab": {
          "base_uri": "https://localhost:8080/",
          "height": 487
        }
      },
      "source": [
        "hmodel = Model(Hill, independent_vars=['x'])\n",
        "hmodel\n",
        "hmodel.param_names\n",
        "result = hmodel.fit(data, x=x, n=4, Kd=1)\n",
        "result"
      ],
      "execution_count": 0,
      "outputs": [
        {
          "output_type": "display_data",
          "data": {
            "text/html": [
              "<script src='https://www.gstatic.com/external_hosted/mathjax/latest/MathJax.js?config=default'></script>"
            ],
            "text/plain": [
              "<IPython.core.display.HTML object>"
            ]
          },
          "metadata": {
            "tags": []
          }
        },
        {
          "output_type": "execute_result",
          "data": {
            "text/html": [
              "<h2> Model</h2> Model(Hill) <h2>Fit Statistics</h2><table><tr><td>fitting method</td><td>leastsq</td><td></td></tr><tr><td># function evals</td><td>32</td><td></td></tr><tr><td># data points</td><td>10</td><td></td></tr><tr><td># variables</td><td>2</td><td></td></tr><tr><td>chi-square</td><td> 0.00267066</td><td></td></tr><tr><td>reduced chi-square</td><td> 3.3383e-04</td><td></td></tr><tr><td>Akaike info crit.</td><td>-78.2801515</td><td></td></tr><tr><td>Bayesian info crit.</td><td>-77.6749813</td><td></td></tr></table><h2>Variables</h2><table><tr><th> name </th><th> value </th><th> standard error </th><th> relative error </th><th> initial value </th><th> min </th><th> max </th><th> vary </th></tr><tr><td> n </td><td>  2.41581061 </td><td>  0.09918466 </td><td> (4.11%) </td><td> 4 </td><td>        -inf </td><td>         inf </td><td> True </td></tr><tr><td> Kd </td><td>  11.1027916 </td><td>  0.18283203 </td><td> (1.65%) </td><td> 1 </td><td>        -inf </td><td>         inf </td><td> True </td></tr></table><h2>Correlations (unreported correlations are < 0.100)</h2><table><tr><td>n</td><td>Kd</td><td>0.1425</td></tr></table>"
            ],
            "text/plain": [
              "<lmfit.model.ModelResult at 0x7f0321d52128>"
            ]
          },
          "metadata": {
            "tags": []
          },
          "execution_count": 108
        }
      ]
    },
    {
      "cell_type": "markdown",
      "metadata": {
        "id": "LihKXtQsfTyH",
        "colab_type": "text"
      },
      "source": [
        "Next, we plot the data, along with the best-fit model, and the residuals; ALWAYS visually inspect the data, fit and residuals before interpreting parameters."
      ]
    },
    {
      "cell_type": "code",
      "metadata": {
        "id": "pkwv86D6gYLK",
        "colab_type": "code",
        "outputId": "f8b230d7-47b4-4847-ec58-be1f13196c00",
        "colab": {
          "base_uri": "https://localhost:8080/",
          "height": 421
        }
      },
      "source": [
        "result.plot()"
      ],
      "execution_count": 0,
      "outputs": [
        {
          "output_type": "display_data",
          "data": {
            "text/html": [
              "<script src='https://www.gstatic.com/external_hosted/mathjax/latest/MathJax.js?config=default'></script>"
            ],
            "text/plain": [
              "<IPython.core.display.HTML object>"
            ]
          },
          "metadata": {
            "tags": []
          }
        },
        {
          "output_type": "execute_result",
          "data": {
            "text/plain": [
              "(<Figure size 432x432 with 2 Axes>, GridSpec(2, 1, height_ratios=[1, 4]))"
            ]
          },
          "metadata": {
            "tags": []
          },
          "execution_count": 109
        },
        {
          "output_type": "display_data",
          "data": {
            "image/png": "[encoded data removed]",
            "text/plain": [
              "<Figure size 432x432 with 2 Axes>"
            ]
          },
          "metadata": {
            "tags": []
          }
        }
      ]
    },
    {
      "cell_type": "markdown",
      "metadata": {
        "id": "mymnoRRk61Pr",
        "colab_type": "text"
      },
      "source": [
        "## Plotting multi-column data with pandas\n",
        "Now, lets load some mulit-column data from the web, at this url: \n",
        "https://www.asc.ohio-state.edu/foster.281/gnuplot/gnuplot_tutorial1_files/example1.txt"
      ]
    },
    {
      "cell_type": "code",
      "metadata": {
        "id": "YIWcXkK9GRBa",
        "colab_type": "code",
        "outputId": "e34eabff-5c4c-444f-fc74-f642dd0d3869",
        "colab": {
          "base_uri": "https://localhost:8080/",
          "height": 206
        }
      },
      "source": [
        "import pandas as pd\n",
        "df = pd.read_table(\"https://www.asc.ohio-state.edu/foster.281/gnuplot/gnuplot_tutorial1_files/example1.txt\",sep='\\s+', header=None, comment='#')\n",
        "df.head()"
      ],
      "execution_count": 3,
      "outputs": [
        {
          "output_type": "execute_result",
          "data": {
            "text/html": [
              "<div>\n",
              "<style scoped>\n",
              "    .dataframe tbody tr th:only-of-type {\n",
              "        vertical-align: middle;\n",
              "    }\n",
              "\n",
              "    .dataframe tbody tr th {\n",
              "        vertical-align: top;\n",
              "    }\n",
              "\n",
              "    .dataframe thead th {\n",
              "        text-align: right;\n",
              "    }\n",
              "</style>\n",
              "<table border=\"1\" class=\"dataframe\">\n",
              "  <thead>\n",
              "    <tr style=\"text-align: right;\">\n",
              "      <th></th>\n",
              "      <th>0</th>\n",
              "      <th>1</th>\n",
              "      <th>2</th>\n",
              "      <th>3</th>\n",
              "    </tr>\n",
              "  </thead>\n",
              "  <tbody>\n",
              "    <tr>\n",
              "      <th>0</th>\n",
              "      <td>0</td>\n",
              "      <td>1.0000</td>\n",
              "      <td>5.000000</td>\n",
              "      <td>0.006738</td>\n",
              "    </tr>\n",
              "    <tr>\n",
              "      <th>1</th>\n",
              "      <td>1</td>\n",
              "      <td>0.5000</td>\n",
              "      <td>5.000977</td>\n",
              "      <td>0.005761</td>\n",
              "    </tr>\n",
              "    <tr>\n",
              "      <th>2</th>\n",
              "      <td>2</td>\n",
              "      <td>0.2500</td>\n",
              "      <td>5.003171</td>\n",
              "      <td>0.003567</td>\n",
              "    </tr>\n",
              "    <tr>\n",
              "      <th>3</th>\n",
              "      <td>3</td>\n",
              "      <td>0.1250</td>\n",
              "      <td>5.004790</td>\n",
              "      <td>0.001948</td>\n",
              "    </tr>\n",
              "    <tr>\n",
              "      <th>4</th>\n",
              "      <td>4</td>\n",
              "      <td>0.0625</td>\n",
              "      <td>5.005724</td>\n",
              "      <td>0.001014</td>\n",
              "    </tr>\n",
              "  </tbody>\n",
              "</table>\n",
              "</div>"
            ],
            "text/plain": [
              "   0       1         2         3\n",
              "0  0  1.0000  5.000000  0.006738\n",
              "1  1  0.5000  5.000977  0.005761\n",
              "2  2  0.2500  5.003171  0.003567\n",
              "3  3  0.1250  5.004790  0.001948\n",
              "4  4  0.0625  5.005724  0.001014"
            ]
          },
          "metadata": {
            "tags": []
          },
          "execution_count": 3
        }
      ]
    },
    {
      "cell_type": "markdown",
      "metadata": {
        "id": "C6efa-B67OWp",
        "colab_type": "text"
      },
      "source": [
        "We could issue a series of matplotlib sub-plot commands to separately plot the data in each column.... or, as here we will make use of built-in sub-plotting in pandas:"
      ]
    },
    {
      "cell_type": "code",
      "metadata": {
        "id": "ROLzRBP_IjCp",
        "colab_type": "code",
        "outputId": "96728992-7975-434d-b4cb-818f13b0ae7d",
        "colab": {
          "base_uri": "https://localhost:8080/",
          "height": 435
        }
      },
      "source": [
        "df.plot(x=0, y=[1,2,3], subplots='true', marker='o', figsize=[6,6]) # we specify which column has the x-axis, then a list of y axes to plot."
      ],
      "execution_count": 6,
      "outputs": [
        {
          "output_type": "execute_result",
          "data": {
            "text/plain": [
              "array([<matplotlib.axes._subplots.AxesSubplot object at 0x7f4ca9620710>,\n",
              "       <matplotlib.axes._subplots.AxesSubplot object at 0x7f4ca95bb860>,\n",
              "       <matplotlib.axes._subplots.AxesSubplot object at 0x7f4ca95e8cc0>],\n",
              "      dtype=object)"
            ]
          },
          "metadata": {
            "tags": []
          },
          "execution_count": 6
        },
        {
          "output_type": "display_data",
          "data": {
            "image/png": "[encoded data removed]",
            "text/plain": [
              "<Figure size 432x432 with 3 Axes>"
            ]
          },
          "metadata": {
            "tags": []
          }
        }
      ]
    },
    {
      "cell_type": "markdown",
      "metadata": {
        "id": "YrY2UUTZBnWQ",
        "colab_type": "text"
      },
      "source": [
        "## Generating synthetic data using NumPy\n",
        "Sometimes it's useful to simulate numerical data; numpy is just the right tool for this. We will start by plotting a simple sine function of the form _y = sin(x)_"
      ]
    },
    {
      "cell_type": "code",
      "metadata": {
        "id": "d0LjmMFEBcu4",
        "colab_type": "code",
        "colab": {}
      },
      "source": [
        "# import necessary packages and libraries\n",
        "import numpy as np\n",
        "import matplotlib.pyplot as plt"
      ],
      "execution_count": 0,
      "outputs": []
    },
    {
      "cell_type": "code",
      "metadata": {
        "id": "ZYrQDamYEK4m",
        "colab_type": "code",
        "colab": {
          "base_uri": "https://localhost:8080/",
          "height": 296
        },
        "outputId": "24450402-a936-450a-f027-f56a8baa2e93"
      },
      "source": [
        "x = np.arange(0,np.pi*2,0.05) # generate x values from 0 to 2pi in step of 0.05\n",
        "y = np.sin(x) # compute y values\n",
        "plt.plot(x,y, '-')\n",
        "plt.ylabel('Intensity')\n",
        "plt.xlabel('Time')\n",
        "plt.axhline(ls='--',c='k')"
      ],
      "execution_count": 36,
      "outputs": [
        {
          "output_type": "execute_result",
          "data": {
            "text/plain": [
              "<matplotlib.lines.Line2D at 0x7f4ca5eadd68>"
            ]
          },
          "metadata": {
            "tags": []
          },
          "execution_count": 36
        },
        {
          "output_type": "display_data",
          "data": {
            "image/png": "[encoded data removed]",
            "text/plain": [
              "<Figure size 432x288 with 1 Axes>"
            ]
          },
          "metadata": {
            "tags": []
          }
        }
      ]
    },
    {
      "cell_type": "markdown",
      "metadata": {
        "colab_type": "text",
        "id": "clxVot76HkLL"
      },
      "source": [
        "Next, we simulate a first-order exponential decay of the form _Y = exp(-t/tau)_. We will create the function, `decay`, and use it to compute the _y_ values:"
      ]
    },
    {
      "cell_type": "code",
      "metadata": {
        "id": "twAsf3SWCrYr",
        "colab_type": "code",
        "colab": {
          "base_uri": "https://localhost:8080/",
          "height": 296
        },
        "outputId": "e4d766e9-9f1e-49a2-cb21-dd1977ed6a40"
      },
      "source": [
        "# define a function to y values for an array of x values\n",
        "def decay(t, N, tau):\n",
        "    return N*np.exp(-t/tau)\n",
        "\n",
        "# create a vector of x values\n",
        "t = np.linspace(0, 5, num=1000) # this generates the array t, with values from 0 to 5, in 1000 increments\n",
        "# now compute the y values\n",
        "N = 7 # intensity at time 0\n",
        "tau = 0.5 # decay rate\n",
        "data = decay(t, N, tau)\n",
        "plt.plot(t,data)\n",
        "plt.xlabel('Time')\n",
        "plt.ylabel('Intensity')"
      ],
      "execution_count": 39,
      "outputs": [
        {
          "output_type": "execute_result",
          "data": {
            "text/plain": [
              "Text(0, 0.5, 'Intensity')"
            ]
          },
          "metadata": {
            "tags": []
          },
          "execution_count": 39
        },
        {
          "output_type": "display_data",
          "data": {
            "image/png": "[encoded data removed]",
            "text/plain": [
              "<Figure size 432x288 with 1 Axes>"
            ]
          },
          "metadata": {
            "tags": []
          }
        }
      ]
    },
    {
      "cell_type": "markdown",
      "metadata": {
        "id": "7n067pV_IFt5",
        "colab_type": "text"
      },
      "source": [
        "## Simulate data, with noise...\n",
        "Real experimental data is always noisy. We can simulated this noise using random numbers. We use the `decay` function and variables defined above..."
      ]
    },
    {
      "cell_type": "code",
      "metadata": {
        "id": "bi_FwWwWEHY2",
        "colab_type": "code",
        "colab": {
          "base_uri": "https://localhost:8080/",
          "height": 312
        },
        "outputId": "38e94545-6ee4-4a99-8729-7158216e5b7b"
      },
      "source": [
        "# define a \"noisy\" function to y values for an array of x values\n",
        "def noisy_decay(t, N, tau, sigma):\n",
        "    return N*np.exp(-t/tau)+sigma*np.random.randn(*t.shape) \n",
        "# randn generates a \"normal distribution\" sample\n",
        "\n",
        "tau = 1; N = 10; sigma = 0.5  # sigma is the standard deviation of the normal distribution\n",
        "noisy_data = noisy_decay(t, N, tau, sigma)  \n",
        "plt.plot(t,noisy_data, '.')\n",
        "plt.title('Noisy Decay Data')\n",
        "plt.xlabel('t')\n",
        "plt.ylabel('y')"
      ],
      "execution_count": 94,
      "outputs": [
        {
          "output_type": "execute_result",
          "data": {
            "text/plain": [
              "Text(0, 0.5, 'y')"
            ]
          },
          "metadata": {
            "tags": []
          },
          "execution_count": 94
        },
        {
          "output_type": "display_data",
          "data": {
            "image/png": "[encoded data removed]",
            "text/plain": [
              "<Figure size 432x288 with 1 Axes>"
            ]
          },
          "metadata": {
            "tags": []
          }
        }
      ]
    },
    {
      "cell_type": "markdown",
      "metadata": {
        "id": "qe-XcLCwOMmC",
        "colab_type": "text"
      },
      "source": [
        "# Fitting noisy data\n",
        "Now, let's fit these noisy data to a model (the epected decaying exponential), using `lmfit`"
      ]
    },
    {
      "cell_type": "code",
      "metadata": {
        "id": "02ud8kBiKLVE",
        "colab_type": "code",
        "colab": {
          "base_uri": "https://localhost:8080/",
          "height": 124
        },
        "outputId": "7432e276-1098-47ac-8bc7-7f16a57b0125"
      },
      "source": [
        "# install lmfit\n",
        "!pip install lmfit  # this line not required if installed in recent session\n",
        "from lmfit import Model, Parameter, report_fit  # import the desired components"
      ],
      "execution_count": 73,
      "outputs": [
        {
          "output_type": "stream",
          "text": [
            "Requirement already satisfied: lmfit in /usr/local/lib/python3.6/dist-packages (1.0.0)\n",
            "Requirement already satisfied: numpy>=1.16 in /usr/local/lib/python3.6/dist-packages (from lmfit) (1.17.5)\n",
            "Requirement already satisfied: uncertainties>=3.0.1 in /usr/local/lib/python3.6/dist-packages (from lmfit) (3.1.2)\n",
            "Requirement already satisfied: asteval>=0.9.16 in /usr/local/lib/python3.6/dist-packages (from lmfit) (0.9.18)\n",
            "Requirement already satisfied: scipy>=1.2 in /usr/local/lib/python3.6/dist-packages (from lmfit) (1.4.1)\n"
          ],
          "name": "stdout"
        }
      ]
    },
    {
      "cell_type": "code",
      "metadata": {
        "id": "6tOcEd3LPlLu",
        "colab_type": "code",
        "colab": {
          "base_uri": "https://localhost:8080/",
          "height": 487
        },
        "outputId": "cde757d8-64a6-42a5-de51-bb5a38d69869"
      },
      "source": [
        "model = Model(decay, independent_vars=['t'])\n",
        "tau = 3; N = 5\n",
        "#result = model.fit(noisy_data, t=t, N=10, tau=1)  # specified starting params\n",
        "result = model.fit(noisy_data, t=t, N=N, tau=tau)  # specified starting params\n",
        "result"
      ],
      "execution_count": 90,
      "outputs": [
        {
          "output_type": "execute_result",
          "data": {
            "text/html": [
              "<h2> Model</h2> Model(decay) <h2>Fit Statistics</h2><table><tr><td>fitting method</td><td>leastsq</td><td></td></tr><tr><td># function evals</td><td>23</td><td></td></tr><tr><td># data points</td><td>1000</td><td></td></tr><tr><td># variables</td><td>2</td><td></td></tr><tr><td>chi-square</td><td> 251.259169</td><td></td></tr><tr><td>reduced chi-square</td><td> 0.25176269</td><td></td></tr><tr><td>Akaike info crit.</td><td>-1377.27033</td><td></td></tr><tr><td>Bayesian info crit.</td><td>-1367.45482</td><td></td></tr></table><h2>Variables</h2><table><tr><th> name </th><th> value </th><th> standard error </th><th> relative error </th><th> initial value </th><th> min </th><th> max </th><th> vary </th></tr><tr><td> N </td><td>  9.85967484 </td><td>  0.07013925 </td><td> (0.71%) </td><td> 5 </td><td>        -inf </td><td>         inf </td><td> True </td></tr><tr><td> tau </td><td>  1.01665977 </td><td>  0.01026904 </td><td> (1.01%) </td><td> 3 </td><td>        -inf </td><td>         inf </td><td> True </td></tr></table><h2>Correlations (unreported correlations are < 0.100)</h2><table><tr><td>N</td><td>tau</td><td>-0.7061</td></tr></table>"
            ],
            "text/plain": [
              "<lmfit.model.ModelResult at 0x7f4c9b6ead30>"
            ]
          },
          "metadata": {
            "tags": []
          },
          "execution_count": 90
        }
      ]
    },
    {
      "cell_type": "code",
      "metadata": {
        "id": "XAzF0k8TPD7N",
        "colab_type": "code",
        "colab": {
          "base_uri": "https://localhost:8080/",
          "height": 421
        },
        "outputId": "7e973bc3-26ed-49a0-dcb1-9fd2fe5e321e"
      },
      "source": [
        "result.plot('.')"
      ],
      "execution_count": 95,
      "outputs": [
        {
          "output_type": "execute_result",
          "data": {
            "text/plain": [
              "(<Figure size 432x432 with 2 Axes>, GridSpec(2, 1, height_ratios=[1, 4]))"
            ]
          },
          "metadata": {
            "tags": []
          },
          "execution_count": 95
        },
        {
          "output_type": "display_data",
          "data": {
            "image/png": "[encoded data removed]",
            "text/plain": [
              "<Figure size 432x432 with 2 Axes>"
            ]
          },
          "metadata": {
            "tags": []
          }
        }
      ]
    },
    {
      "cell_type": "code",
      "metadata": {
        "id": "XOJ5NEEHUCoJ",
        "colab_type": "code",
        "colab": {
          "base_uri": "https://localhost:8080/",
          "height": 69
        },
        "outputId": "1b9316db-d01d-454e-f68c-c34f6b08485d"
      },
      "source": [
        "result.params.pretty_print()"
      ],
      "execution_count": 92,
      "outputs": [
        {
          "output_type": "stream",
          "text": [
            "Name     Value      Min      Max   Stderr     Vary     Expr Brute_Step\n",
            "N        9.86     -inf      inf  0.07014     True     None     None\n",
            "tau     1.017     -inf      inf  0.01027     True     None     None\n"
          ],
          "name": "stdout"
        }
      ]
    },
    {
      "cell_type": "markdown",
      "metadata": {
        "id": "CAJP5l3oV6T6",
        "colab_type": "text"
      },
      "source": [
        "In the exercise above, we generated arrays _t_, _data_ and _noisy\\_data_, but didn't place them in a pandas data frame. This can easily be accomplished by specifying a data frame with those arrays as the data:"
      ]
    },
    {
      "cell_type": "code",
      "metadata": {
        "id": "PGfMwSXUVEh7",
        "colab_type": "code",
        "colab": {
          "base_uri": "https://localhost:8080/",
          "height": 206
        },
        "outputId": "18b80d4f-09f6-43ca-e021-b6d8048f68fb"
      },
      "source": [
        "import pandas as pd\n",
        "d = {'t': t, 'data': noisy_data, 'init': result.init_fit, 'best_fit' : result.best_fit}  \n",
        "# d contains several arrays, with headers\n",
        "df = pd.DataFrame(data=d)\n",
        "df.head()"
      ],
      "execution_count": 130,
      "outputs": [
        {
          "output_type": "execute_result",
          "data": {
            "text/html": [
              "<div>\n",
              "<style scoped>\n",
              "    .dataframe tbody tr th:only-of-type {\n",
              "        vertical-align: middle;\n",
              "    }\n",
              "\n",
              "    .dataframe tbody tr th {\n",
              "        vertical-align: top;\n",
              "    }\n",
              "\n",
              "    .dataframe thead th {\n",
              "        text-align: right;\n",
              "    }\n",
              "</style>\n",
              "<table border=\"1\" class=\"dataframe\">\n",
              "  <thead>\n",
              "    <tr style=\"text-align: right;\">\n",
              "      <th></th>\n",
              "      <th>t</th>\n",
              "      <th>data</th>\n",
              "      <th>init</th>\n",
              "      <th>best_fit</th>\n",
              "    </tr>\n",
              "  </thead>\n",
              "  <tbody>\n",
              "    <tr>\n",
              "      <th>0</th>\n",
              "      <td>0.000000</td>\n",
              "      <td>9.099422</td>\n",
              "      <td>5.000000</td>\n",
              "      <td>9.859675</td>\n",
              "    </tr>\n",
              "    <tr>\n",
              "      <th>1</th>\n",
              "      <td>0.005005</td>\n",
              "      <td>10.326944</td>\n",
              "      <td>4.991665</td>\n",
              "      <td>9.811255</td>\n",
              "    </tr>\n",
              "    <tr>\n",
              "      <th>2</th>\n",
              "      <td>0.010010</td>\n",
              "      <td>10.951151</td>\n",
              "      <td>4.983344</td>\n",
              "      <td>9.763073</td>\n",
              "    </tr>\n",
              "    <tr>\n",
              "      <th>3</th>\n",
              "      <td>0.015015</td>\n",
              "      <td>10.969271</td>\n",
              "      <td>4.975037</td>\n",
              "      <td>9.715128</td>\n",
              "    </tr>\n",
              "    <tr>\n",
              "      <th>4</th>\n",
              "      <td>0.020020</td>\n",
              "      <td>10.465762</td>\n",
              "      <td>4.966744</td>\n",
              "      <td>9.667418</td>\n",
              "    </tr>\n",
              "  </tbody>\n",
              "</table>\n",
              "</div>"
            ],
            "text/plain": [
              "          t       data      init  best_fit\n",
              "0  0.000000   9.099422  5.000000  9.859675\n",
              "1  0.005005  10.326944  4.991665  9.811255\n",
              "2  0.010010  10.951151  4.983344  9.763073\n",
              "3  0.015015  10.969271  4.975037  9.715128\n",
              "4  0.020020  10.465762  4.966744  9.667418"
            ]
          },
          "metadata": {
            "tags": []
          },
          "execution_count": 130
        }
      ]
    },
    {
      "cell_type": "code",
      "metadata": {
        "id": "jsvoIrQkW_yy",
        "colab_type": "code",
        "colab": {
          "base_uri": "https://localhost:8080/",
          "height": 296
        },
        "outputId": "8395429b-ed37-4418-96b7-b24d167c01d3"
      },
      "source": [
        "# df.plot(x='t', y=['data','best_fit'], kind='scatter', c='orange', s=1)\n",
        "df.plot(x='t', y=['data','best_fit','init'])"
      ],
      "execution_count": 136,
      "outputs": [
        {
          "output_type": "execute_result",
          "data": {
            "text/plain": [
              "<matplotlib.axes._subplots.AxesSubplot at 0x7f4c9a4734a8>"
            ]
          },
          "metadata": {
            "tags": []
          },
          "execution_count": 136
        },
        {
          "output_type": "display_data",
          "data": {
            "image/png": "[encoded data removed]",
            "text/plain": [
              "<Figure size 432x288 with 1 Axes>"
            ]
          },
          "metadata": {
            "tags": []
          }
        }
      ]
    }
  ]
}