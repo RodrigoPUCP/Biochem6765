{
  "nbformat": 4,
  "nbformat_minor": 0,
  "metadata": {
    "colab": {
      "name": "Intro-plotting-fitting-python-6765",
      "provenance": [],
      "collapsed_sections": [],
      "toc_visible": true,
      "authorship_tag": "ABX9TyP1NitdaHPntKKdPJ4DxE66",
      "include_colab_link": true
    },
    "kernelspec": {
      "name": "python3",
      "display_name": "Python 3"
    }
  },
  "cells": [
    {
      "cell_type": "markdown",
      "metadata": {
        "id": "view-in-github",
        "colab_type": "text"
      },
      "source": [
        "<a href=\"https://colab.research.google.com/github/mpfoster/Biochem6765/blob/master/Intro_plotting_fitting_python_6765.ipynb\" target=\"_parent\"><img src=\"https://colab.research.google.com/assets/colab-badge.svg\" alt=\"Open In Colab\"/></a>"
      ]
    },
    {
      "cell_type": "markdown",
      "metadata": {
        "id": "7KCUG_b4FRTu",
        "colab_type": "text"
      },
      "source": [
        "# Introduction to using Python for Biochem 6765 - SP20; Foster\n",
        "This notebook is intended to serve as a tutorial guide for introducing students to data plotting and fitting in Python. It is by no means a complete description of capabilities or possibilities for data analysis in Python, but hopefully provides some useful guides and examples. \n",
        "\n",
        "Students should use the code cells as a guide, and feel free to copy/paste into their notebooks. The effect of editing the code can be seen by re-running the selected cell. Note that some cells will depend on execution of earlier cells ,though. In any case, the output fields should be cleared when starting this tutorial so that you can progress through it sequentially. This can be done at any time in Colab, via Tools > Command Palette > Clear all outputs.\n",
        "\n",
        "Have fun! 2020-01-14 MPF"
      ]
    },
    {
      "cell_type": "markdown",
      "metadata": {
        "id": "qALsW8XAgwaa",
        "colab_type": "text"
      },
      "source": [
        "## Simple plotting and fitting with Python, using matplotlib and pandas\n",
        "We will start with a cooperative isotherm of oxygen binding to hemoglobin. The data as follows, in which the first column is oxygen partial pressure (in mmHg), and the second is fractional saturation:\n",
        "```\n",
        "0.499\t0.000\n",
        "1.341\t0.015\n",
        "2.106\t0.030\n",
        "5.345\t0.146\n",
        "7.934\t0.316\n",
        "11.132\t0.505\n",
        "14.761\t0.644\n",
        "18.499\t0.760\n",
        "25.233\t0.919\n",
        "64.028\t0.995\n",
        "```\n",
        "We plot the data using `matplotlib` https://matplotlib.org/ (a library with functionality similar to that of MATLAB), we define _x_ and _y_ data. This can be done manually, as ..."
      ]
    },
    {
      "cell_type": "code",
      "metadata": {
        "id": "11hLGNZrGM7C",
        "colab_type": "code",
        "colab": {}
      },
      "source": [
        "# import matplotlib library for MATLAB-like plotting\n",
        "import matplotlib.pyplot as plt  # this library has the plotting tools\n",
        "# enter the data manually\n",
        "x = [0.499,  1.341,  2.106,  5.345,  7.934,  11.132,  14.761,  18.499,  25.233,\n",
        "     64.028]\n",
        "y = [0.0, 0.015, 0.03, 0.146, 0.316, 0.505, 0.644, 0.76, 0.919, 0.995]\n",
        "# then plot the data: \n",
        "plt.plot(x,y, 'bo--') # 'bo--' means *b*lue 'o's and dashes\n",
        "plt.xlabel('Oxygen Pressure (mm)')\n",
        "plt.ylabel('Saturation')\n",
        "#import numpy as np"
      ],
      "execution_count": 0,
      "outputs": []
    },
    {
      "cell_type": "markdown",
      "metadata": {
        "id": "fSe_Gli9SUjT",
        "colab_type": "text"
      },
      "source": [
        "Usually, our data is in some file. We can most easily read in the data using the `pandas` package, https://pandas.pydata.org/. Pandas simplifies loading tabular data into a \"data frame\"; basically a table with rows and columns. For this example, the data are available on the web as a space-separated text file, at this URL: https://github.com/mpfoster/Biochem6765/blob/master/data/hb+o2.txt. The first line of the file is a comment, so we will need to tell pandas to ignore lines that start with `comment='#'`, that the separator between fields is blank space `sep='\\s+'`, and that the file does not have a reader row, `header=None`.\n",
        "\n",
        "In addition to space, or tab-delimited files, pandas has utilites for reading `.csv` files (comma-separated-values; probably the most common), and can diretly read data from _Excel_ spreadsheets, or even on-line Google spreadsheets. See https://pandas.pydata.org/pandas-docs/stable/reference/api/pandas.read_table.html"
      ]
    },
    {
      "cell_type": "code",
      "metadata": {
        "id": "NJZEkhpVyggl",
        "colab_type": "code",
        "colab": {}
      },
      "source": [
        "# use pandas to load the data from a url\n",
        "import pandas as pd\n",
        "df = pd.read_table(\"https://www.asc.ohio-state.edu/foster.281/gnuplot/gnuplot_tutorial1_files/hb+o2.txt\",\n",
        "                   sep='\\s+', header=None, comment='#')\n",
        "df.columns = ['PO2','Ys']  # rename columns; 0 is oxygen pressure; 1 is saturation\n",
        "df  # print out the data frame"
      ],
      "execution_count": 0,
      "outputs": []
    },
    {
      "cell_type": "markdown",
      "metadata": {
        "id": "Lrm7uBrReLwj",
        "colab_type": "text"
      },
      "source": [
        "and... easily plot the data using funtions associated with a pandas data frame:"
      ]
    },
    {
      "cell_type": "code",
      "metadata": {
        "id": "aS8jEKNa1U_n",
        "colab_type": "code",
        "colab": {}
      },
      "source": [
        "df.plot('PO2', 'Ys', kind='scatter', figsize=(3,3)) # plot the data using a scatter plot"
      ],
      "execution_count": 0,
      "outputs": []
    },
    {
      "cell_type": "markdown",
      "metadata": {
        "id": "gVvHVsvXelzj",
        "colab_type": "text"
      },
      "source": [
        "NB: we can convert a column in a data frame to a list:"
      ]
    },
    {
      "cell_type": "code",
      "metadata": {
        "id": "S3WosP1GUuuU",
        "colab_type": "code",
        "colab": {}
      },
      "source": [
        "df['Ys'].tolist() # print a column as a list"
      ],
      "execution_count": 0,
      "outputs": []
    },
    {
      "cell_type": "markdown",
      "metadata": {
        "id": "T_HHtk1rVdGF",
        "colab_type": "text"
      },
      "source": [
        "## Fitting to a model\n",
        "OK, we have loaded and plotted the binding data. It's common to interpret cooperative binding of multiple ligands to a macromolecule using the Hill equation: \n",
        "\n",
        "<img src=\"https://latex.codecogs.com/svg.latex?\\Large&space;Y=\\frac{[L]^n}{[L]^n+K_D^2}\" title=\"\\Large Y=\\frac{[L]^n}{[L]^n+K_D^n}\" />\n",
        "\n",
        "where _n_ is the Hill coefficient. We will use the `lmfit` package https://lmfit.github.io/lmfit-py/ to generate the model and perfom fitting. `lmfit` is not a standard package in most python installations (it is built on other packages, especially `numpy` and `scipy`), and therefore needs to be installed. In a Jupyter Notebook, this can be accomplished by:\n",
        "```\n",
        "!pip install lmfit\n",
        "```\n"
      ]
    },
    {
      "cell_type": "code",
      "metadata": {
        "colab_type": "code",
        "id": "E0NReY51yngk",
        "colab": {}
      },
      "source": [
        "# install lmfit\n",
        "!pip install lmfit\n",
        "from lmfit import Model, Parameter, report_fit  # import the desired components\n",
        "import numpy as np  "
      ],
      "execution_count": 0,
      "outputs": []
    },
    {
      "cell_type": "code",
      "metadata": {
        "id": "tIRPk9I1aoT3",
        "colab_type": "code",
        "colab": {}
      },
      "source": [
        "def Hill(x, n, Kd): # the Hill equation\n",
        "    return x**n/(x**n + Kd**n) \n",
        "\n",
        "x = df['PO2']\n",
        "data = df['Ys']\n",
        "#simdata = Hill(x,4,10)\n",
        "#simdata\n",
        "#plt.plot(x,simdata)"
      ],
      "execution_count": 0,
      "outputs": []
    },
    {
      "cell_type": "code",
      "metadata": {
        "id": "PX1STDWLc_iO",
        "colab_type": "code",
        "colab": {}
      },
      "source": [
        "hmodel = Model(Hill, independent_vars=['x'])\n",
        "hmodel\n",
        "hmodel.param_names\n",
        "result = hmodel.fit(data, x=x, n=4, Kd=1)\n",
        "result"
      ],
      "execution_count": 0,
      "outputs": []
    },
    {
      "cell_type": "markdown",
      "metadata": {
        "id": "LihKXtQsfTyH",
        "colab_type": "text"
      },
      "source": [
        "Next, we plot the data, along with the best-fit model, and the residuals; ALWAYS visually inspect the data, fit and residuals before interpreting parameters."
      ]
    },
    {
      "cell_type": "code",
      "metadata": {
        "id": "pkwv86D6gYLK",
        "colab_type": "code",
        "colab": {}
      },
      "source": [
        "result.plot()"
      ],
      "execution_count": 0,
      "outputs": []
    },
    {
      "cell_type": "markdown",
      "metadata": {
        "id": "mymnoRRk61Pr",
        "colab_type": "text"
      },
      "source": [
        "## Plotting multi-column data with pandas\n",
        "Now, lets load some mulit-column data from the web, at this url: \n",
        "https://www.asc.ohio-state.edu/foster.281/gnuplot/gnuplot_tutorial1_files/example1.txt"
      ]
    },
    {
      "cell_type": "code",
      "metadata": {
        "id": "YIWcXkK9GRBa",
        "colab_type": "code",
        "colab": {}
      },
      "source": [
        "import pandas as pd\n",
        "df = pd.read_table(\"https://www.asc.ohio-state.edu/foster.281/gnuplot/gnuplot_tutorial1_files/example1.txt\",sep='\\s+', header=None, comment='#')\n",
        "df.head()"
      ],
      "execution_count": 0,
      "outputs": []
    },
    {
      "cell_type": "markdown",
      "metadata": {
        "id": "C6efa-B67OWp",
        "colab_type": "text"
      },
      "source": [
        "We could issue a series of matplotlib sub-plot commands to separately plot the data in each column.... or, as here we will make use of built-in sub-plotting in pandas:"
      ]
    },
    {
      "cell_type": "code",
      "metadata": {
        "id": "ROLzRBP_IjCp",
        "colab_type": "code",
        "colab": {}
      },
      "source": [
        "df.plot(x=0, y=[1,2,3], subplots='true', marker='o', figsize=[6,6]) # we specify which column has the x-axis, then a list of y axes to plot."
      ],
      "execution_count": 0,
      "outputs": []
    },
    {
      "cell_type": "markdown",
      "metadata": {
        "id": "YrY2UUTZBnWQ",
        "colab_type": "text"
      },
      "source": [
        "## Generating synthetic data using NumPy\n",
        "Sometimes it's useful to simulate numerical data; numpy is just the right tool for this. We will start by plotting a simple sine function of the form _y = sin(x)_"
      ]
    },
    {
      "cell_type": "code",
      "metadata": {
        "id": "d0LjmMFEBcu4",
        "colab_type": "code",
        "colab": {}
      },
      "source": [
        "# import necessary packages and libraries\n",
        "import numpy as np\n",
        "import matplotlib.pyplot as plt"
      ],
      "execution_count": 0,
      "outputs": []
    },
    {
      "cell_type": "code",
      "metadata": {
        "id": "ZYrQDamYEK4m",
        "colab_type": "code",
        "colab": {}
      },
      "source": [
        "x = np.arange(0,np.pi*2,0.05) # generate x values from 0 to 2pi in step of 0.05\n",
        "y = np.sin(x) # compute y values\n",
        "plt.plot(x,y, '-')\n",
        "plt.ylabel('Intensity')\n",
        "plt.xlabel('Time')\n",
        "plt.axhline(ls='--',c='k')"
      ],
      "execution_count": 0,
      "outputs": []
    },
    {
      "cell_type": "markdown",
      "metadata": {
        "colab_type": "text",
        "id": "clxVot76HkLL"
      },
      "source": [
        "Next, we simulate a first-order exponential decay of the form _Y = exp(-t/tau)_. We will create the function, `decay`, and use it to compute the _y_ values:"
      ]
    },
    {
      "cell_type": "code",
      "metadata": {
        "id": "twAsf3SWCrYr",
        "colab_type": "code",
        "colab": {}
      },
      "source": [
        "# define a function to y values for an array of x values\n",
        "def decay(t, N, tau):\n",
        "    return N*np.exp(-t/tau)\n",
        "\n",
        "# create a vector of x values\n",
        "t = np.linspace(0, 5, num=1000) # this generates the array t, with values from 0 to 5, in 1000 increments\n",
        "# now compute the y values\n",
        "N = 7 # intensity at time 0\n",
        "tau = 0.5 # decay rate\n",
        "data = decay(t, N, tau)\n",
        "plt.plot(t,data)\n",
        "plt.xlabel('Time')\n",
        "plt.ylabel('Intensity')"
      ],
      "execution_count": 0,
      "outputs": []
    },
    {
      "cell_type": "markdown",
      "metadata": {
        "id": "7n067pV_IFt5",
        "colab_type": "text"
      },
      "source": [
        "## Simulate data, with noise...\n",
        "Real experimental data is always noisy. We can simulated this noise using random numbers. We use the `decay` function and variables defined above..."
      ]
    },
    {
      "cell_type": "code",
      "metadata": {
        "id": "bi_FwWwWEHY2",
        "colab_type": "code",
        "colab": {}
      },
      "source": [
        "# define a \"noisy\" function to y values for an array of x values\n",
        "def noisy_decay(t, N, tau, sigma):\n",
        "    return N*np.exp(-t/tau)+sigma*np.random.randn(*t.shape) \n",
        "# randn generates a \"normal distribution\" sample\n",
        "\n",
        "tau = 1; N = 10; sigma = 0.5  # sigma is the standard deviation of the normal distribution\n",
        "noisy_data = noisy_decay(t, N, tau, sigma)  \n",
        "plt.plot(t,noisy_data, '.')\n",
        "plt.title('Noisy Decay Data')\n",
        "plt.xlabel('t')\n",
        "plt.ylabel('y')"
      ],
      "execution_count": 0,
      "outputs": []
    },
    {
      "cell_type": "markdown",
      "metadata": {
        "id": "qe-XcLCwOMmC",
        "colab_type": "text"
      },
      "source": [
        "## Fitting noisy data\n",
        "Now, let's fit these noisy data to a model (the epected decaying exponential), using `lmfit`"
      ]
    },
    {
      "cell_type": "code",
      "metadata": {
        "id": "02ud8kBiKLVE",
        "colab_type": "code",
        "colab": {}
      },
      "source": [
        "# install lmfit\n",
        "!pip install lmfit  # this line not required if installed in recent session\n",
        "from lmfit import Model, Parameter, report_fit  # import the desired components"
      ],
      "execution_count": 0,
      "outputs": []
    },
    {
      "cell_type": "code",
      "metadata": {
        "id": "6tOcEd3LPlLu",
        "colab_type": "code",
        "colab": {}
      },
      "source": [
        "model = Model(decay, independent_vars=['t'])\n",
        "tau = 3; N = 5\n",
        "#result = model.fit(noisy_data, t=t, N=10, tau=1)  # specified starting params\n",
        "result = model.fit(noisy_data, t=t, N=N, tau=tau)  # specified starting params\n",
        "result"
      ],
      "execution_count": 0,
      "outputs": []
    },
    {
      "cell_type": "code",
      "metadata": {
        "id": "XAzF0k8TPD7N",
        "colab_type": "code",
        "colab": {}
      },
      "source": [
        "result.plot('.')"
      ],
      "execution_count": 0,
      "outputs": []
    },
    {
      "cell_type": "code",
      "metadata": {
        "id": "XOJ5NEEHUCoJ",
        "colab_type": "code",
        "colab": {}
      },
      "source": [
        "result.params.pretty_print()"
      ],
      "execution_count": 0,
      "outputs": []
    },
    {
      "cell_type": "markdown",
      "metadata": {
        "id": "CAJP5l3oV6T6",
        "colab_type": "text"
      },
      "source": [
        "In the exercise above, we generated arrays _t_, _data_ and _noisy\\_data_, but didn't place them in a pandas data frame. This can easily be accomplished by specifying a data frame with those arrays as the data:"
      ]
    },
    {
      "cell_type": "code",
      "metadata": {
        "id": "PGfMwSXUVEh7",
        "colab_type": "code",
        "colab": {}
      },
      "source": [
        "import pandas as pd\n",
        "d = {'t': t, 'data': noisy_data, 'init': result.init_fit, 'best_fit' : result.best_fit}  \n",
        "# d contains several arrays, with headers\n",
        "df = pd.DataFrame(data=d)\n",
        "df.head()"
      ],
      "execution_count": 0,
      "outputs": []
    },
    {
      "cell_type": "code",
      "metadata": {
        "id": "jsvoIrQkW_yy",
        "colab_type": "code",
        "colab": {}
      },
      "source": [
        "# df.plot(x='t', y=['data','best_fit'], kind='scatter', c='orange', s=1)\n",
        "df.plot(x='t', y=['data','best_fit','init'])"
      ],
      "execution_count": 0,
      "outputs": []
    }
  ]
}